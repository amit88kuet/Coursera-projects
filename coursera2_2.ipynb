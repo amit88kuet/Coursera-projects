{
 "cells": [
  {
   "cell_type": "code",
   "execution_count": 1,
   "metadata": {},
   "outputs": [
    {
     "name": "stdout",
     "output_type": "stream",
     "text": [
      "b\n"
     ]
    }
   ],
   "source": [
    "def most_common_letter(s):\n",
    "    frequencies = count_freqs(s)\n",
    "    return best_key(frequencies)\n",
    "\n",
    "def count_freqs(st):\n",
    "    d = {}\n",
    "    for c in st:\n",
    "        if c not in d:\n",
    "             d[c] = 0\n",
    "        d[c] = d[c] + 1\n",
    "    return d\n",
    "\n",
    "def best_key(dictionary):\n",
    "    ks = dictionary.keys()\n",
    "    best_key_so_far = list(ks)[0]  # Have to turn ks into a real list before using [] to select an item\n",
    "    for k in ks:\n",
    "        if dictionary[k] > dictionary[best_key_so_far]:\n",
    "            best_key_so_far = k\n",
    "    return best_key_so_far\n",
    "\n",
    "print(most_common_letter(\"abbbbbbbbbbbccccddddd\"))\n"
   ]
  },
  {
   "cell_type": "code",
   "execution_count": 2,
   "metadata": {},
   "outputs": [
    {
     "name": "stdout",
     "output_type": "stream",
     "text": [
      "50\n"
     ]
    }
   ],
   "source": [
    "\n",
    "def mult (a):\n",
    "    b = addit(a)\n",
    "    return b*a\n",
    "\n",
    "def addit(a):\n",
    "    return a+5\n",
    "\n",
    "x = mult(5)\n",
    "print(x)\n"
   ]
  },
  {
   "cell_type": "code",
   "execution_count": null,
   "metadata": {},
   "outputs": [],
   "source": [
    "def circleInfo(r):\n",
    "    \"\"\" Return (circumference, area) of a circle of radius r \"\"\"\n",
    "    c = 2 * 3.14159 * r\n",
    "    a = 3.14159 * r * r\n",
    "    return c, a\n",
    "\n",
    "print(circleInfo(10))\n",
    "\n",
    "circumference, area = circleInfo(10)\n",
    "print(circumference)\n",
    "print(area)\n",
    "\n",
    "circumference_two, area_two = circleInfo(45)\n",
    "print(circumference_two)\n",
    "print(area_two)"
   ]
  },
  {
   "cell_type": "code",
   "execution_count": 1,
   "metadata": {},
   "outputs": [
    {
     "name": "stdout",
     "output_type": "stream",
     "text": [
      "[1, -2, 3, 4, 7]\n",
      "[7, 4, 3, -2, 1]\n"
     ]
    }
   ],
   "source": [
    "L1 = [1, 7, 4, -2, 3]\n",
    "\n",
    "def absolute(x):\n",
    "    if x >= 0:\n",
    "        return x\n",
    "    else:\n",
    "        return -x\n",
    "\n",
    "L2 = sorted(L1, key=absolute)\n",
    "print(L2)\n",
    "\n",
    "#or in reverse order\n",
    "print(sorted(L1, reverse=True, key=absolute))\n"
   ]
  },
  {
   "cell_type": "code",
   "execution_count": 2,
   "metadata": {},
   "outputs": [
    {
     "name": "stdout",
     "output_type": "stream",
     "text": [
      "['a', 'e', 'i', 'o', 'p', 'y']\n"
     ]
    }
   ],
   "source": [
    "ex_lst = ['hi', 'how are you', 'bye', 'apple', 'zebra', 'dance']\n",
    "\n",
    "a = []\n",
    "def second_let():\n",
    "    for i in ex_lst:\n",
    "        a.append(i[1])\n",
    "        \n",
    "    return sorted(a)\n",
    "\n",
    "sorted_by_second_let = second_let()\n",
    "print(sorted_by_second_let)"
   ]
  },
  {
   "cell_type": "code",
   "execution_count": null,
   "metadata": {},
   "outputs": [],
   "source": [
    "ex_lst = ['hi', 'how are you', 'bye', 'apple', 'zebra', 'dance']\n",
    "\n",
    "\n",
    "def second_let():\n",
    "    for i in ex_lst:\n",
    "        return(i[1])\n",
    "        \n",
    "    \n",
    "b =second_let()\n",
    "print(b)\n",
    "sorted_by_second_let = sorted(ex_lst)\n",
    "print(sorted_by_second_let)"
   ]
  },
  {
   "cell_type": "code",
   "execution_count": 6,
   "metadata": {},
   "outputs": [
    {
     "name": "stdout",
     "output_type": "stream",
     "text": [
      "['dance', 'zebra', 'hi', 'how are you', 'apple', 'bye']\n"
     ]
    }
   ],
   "source": [
    "ex_lst = ['hi', 'how are you', 'bye', 'apple', 'zebra', 'dance']\n",
    "\n",
    "\n",
    "def second_let(a):\n",
    "    return(a[1])\n",
    "        \n",
    "    \n",
    "\n",
    "sorted_by_second_let = sorted(ex_lst, key = second_let)\n",
    "print(sorted_by_second_let)"
   ]
  },
  {
   "cell_type": "code",
   "execution_count": 5,
   "metadata": {},
   "outputs": [
    {
     "name": "stdout",
     "output_type": "stream",
     "text": [
      "['19', '14378', '8907', '16', '1005', '44', '33', '32', '871', '1450']\n"
     ]
    }
   ],
   "source": [
    "nums = ['1450', '33', '871', '19', '14378', '32', '1005', '44', '8907', '16']\n",
    "\n",
    "def last_char(a):\n",
    "    #for i in nums:\n",
    "        #c = len(i)\n",
    "    return a[-1]\n",
    "    \n",
    "nums_sorted =sorted(nums,key=last_char, reverse = True)\n",
    "print(nums_sorted)\n"
   ]
  },
  {
   "cell_type": "code",
   "execution_count": 1,
   "metadata": {},
   "outputs": [
    {
     "name": "stdout",
     "output_type": "stream",
     "text": [
      "['19', '14378', '8907', '16', '1005', '44', '33', '32', '871', '1450']\n"
     ]
    }
   ],
   "source": [
    "nums = ['1450', '33', '871', '19', '14378', '32', '1005', '44', '8907', '16']\n",
    "\n",
    "nums_sorted_lambda = sorted(nums,key= lambda x: x[-1],reverse = True)\n",
    "print(nums_sorted_lambda)\n"
   ]
  },
  {
   "cell_type": "code",
   "execution_count": 2,
   "metadata": {},
   "outputs": [
    {
     "name": "stdout",
     "output_type": "stream",
     "text": [
      "E appears 2 times\n",
      "F appears 1 times\n",
      "B appears 2 times\n",
      "A appears 2 times\n",
      "D appears 4 times\n",
      "I appears 2 times\n",
      "C appears 1 times\n"
     ]
    }
   ],
   "source": [
    "L = ['E', 'F', 'B', 'A', 'D', 'I', 'I', 'C', 'B', 'A', 'D', 'D', 'E', 'D']\n",
    "\n",
    "d = {}\n",
    "for x in L:\n",
    "    if x in d:\n",
    "        d[x] = d[x] + 1\n",
    "    else:\n",
    "        d[x] = 1\n",
    "for x in d.keys():\n",
    "    print(\"{} appears {} times\".format(x, d[x]))\n"
   ]
  },
  {
   "cell_type": "code",
   "execution_count": 3,
   "metadata": {},
   "outputs": [
    {
     "name": "stdout",
     "output_type": "stream",
     "text": [
      "D appears 4 times\n",
      "E appears 2 times\n",
      "B appears 2 times\n",
      "A appears 2 times\n",
      "I appears 2 times\n",
      "F appears 1 times\n",
      "C appears 1 times\n"
     ]
    }
   ],
   "source": [
    "L = ['E', 'F', 'B', 'A', 'D', 'I', 'I', 'C', 'B', 'A', 'D', 'D', 'E', 'D']\n",
    "\n",
    "d = {}\n",
    "for x in L:\n",
    "    if x in d:\n",
    "        d[x] = d[x] + 1\n",
    "    else:\n",
    "        d[x] = 1\n",
    "\n",
    "y = sorted(d.keys(), key=lambda k: d[k], reverse=True)\n",
    "for k in y:\n",
    "    print(\"{} appears {} times\".format(k, d[k]))\n"
   ]
  },
  {
   "cell_type": "code",
   "execution_count": 4,
   "metadata": {},
   "outputs": [
    {
     "name": "stdout",
     "output_type": "stream",
     "text": [
      "['Chairs', 'Firepit', 'Flowers', 'Grill', 'Lights', 'Trees']\n"
     ]
    }
   ],
   "source": [
    "dictionary = {\"Flowers\": 10, 'Trees': 20, 'Chairs': 6, \"Firepit\": 1, 'Grill': 2, 'Lights': 14}\n",
    "\n",
    "sorted_keys = sorted(dictionary, key = lambda x: x )\n",
    "print(sorted_keys)"
   ]
  },
  {
   "cell_type": "code",
   "execution_count": 5,
   "metadata": {},
   "outputs": [
    {
     "name": "stdout",
     "output_type": "stream",
     "text": [
      "kiwi\n",
      "pear\n",
      "apple\n",
      "mango\n",
      "peach\n",
      "papaya\n",
      "blueberry\n"
     ]
    }
   ],
   "source": [
    "fruits = ['peach', 'kiwi', 'apple', 'blueberry', 'papaya', 'mango', 'pear']\n",
    "new_order = sorted(fruits, key=lambda fruit_name: (len(fruit_name), fruit_name))\n",
    "for fruit in new_order:\n",
    "    print(fruit)\n"
   ]
  },
  {
   "cell_type": "code",
   "execution_count": 7,
   "metadata": {},
   "outputs": [
    {
     "name": "stdout",
     "output_type": "stream",
     "text": [
      "['Berlin', 'Buenos Aires', 'Cairo', 'Caloocan', 'Reykjavik']\n"
     ]
    }
   ],
   "source": [
    "weather = {'Reykjavik': {'temp':60, 'condition': 'rainy'},\n",
    "           'Buenos Aires': {'temp': 55, 'condition': 'cloudy'},\n",
    "           'Cairo': {'temp': 96, 'condition': 'sunny'},\n",
    "           'Berlin': {'temp': 89, 'condition': 'sunny'},\n",
    "           'Caloocan': {'temp': 78, 'condition': 'sunny'}}\n",
    "\n",
    "sorted_weather = sorted(weather, key=lambda w: (w, weather[w]['temp']))\n",
    "print(sorted_weather)"
   ]
  },
  {
   "cell_type": "code",
   "execution_count": 8,
   "metadata": {},
   "outputs": [
    {
     "name": "stdout",
     "output_type": "stream",
     "text": [
      "['Michigan', 'Washington', 'Minnesota']\n"
     ]
    }
   ],
   "source": [
    "def s_cities_count(city_list):\n",
    "    ct = 0\n",
    "    for city in city_list:\n",
    "        if city[0] == \"S\":\n",
    "            ct += 1\n",
    "    return ct\n",
    "\n",
    "states = {\"Minnesota\": [\"St. Paul\", \"Minneapolis\", \"Saint Cloud\", \"Stillwater\"],\n",
    "          \"Michigan\": [\"Ann Arbor\", \"Traverse City\", \"Lansing\", \"Kalamazoo\"],\n",
    "          \"Washington\": [\"Seattle\", \"Tacoma\", \"Olympia\", \"Vancouver\"]}\n",
    "\n",
    "print(sorted(states, key=lambda state: s_cities_count(states[state])))\n"
   ]
  },
  {
   "cell_type": "code",
   "execution_count": 9,
   "metadata": {},
   "outputs": [
    {
     "name": "stdout",
     "output_type": "stream",
     "text": [
      "['Michigan', 'Washington', 'Minnesota']\n"
     ]
    }
   ],
   "source": [
    "def s_cities_count(city_list):\n",
    "    ct = 0\n",
    "    for city in city_list:\n",
    "        if city[0] == \"S\":\n",
    "            ct += 1\n",
    "    return ct\n",
    "\n",
    "def s_cities(town):\n",
    "    city_list = states[town]\n",
    "    return s_cities_count(city_list)\n",
    "\n",
    "states = {\"Minnesota\": [\"St. Paul\", \"Minneapolis\", \"Saint Cloud\", \"Stillwater\"],\n",
    "          \"Michigan\": [\"Ann Arbor\", \"Traverse City\", \"Lansing\", \"Kalamazoo\"],\n",
    "          \"Washington\": [\"Seattle\", \"Tacoma\", \"Olympia\", \"Vancouver\"]}\n",
    "\n",
    "print(sorted(states, key= s_cities))\n"
   ]
  },
  {
   "cell_type": "code",
   "execution_count": 29,
   "metadata": {},
   "outputs": [
    {
     "name": "stdout",
     "output_type": "stream",
     "text": [
      "['17573005', '17572342', '17579000', '17570002', '17572345', '17579329']\n"
     ]
    }
   ],
   "source": [
    "ids = [17573005, 17572342, 17579000, 17570002, 17572345, 17579329]\n",
    "\n",
    "a = [str(x) for x in ids]\n",
    "    \n",
    "    \n",
    "print(a)\n",
    "\n",
    "#for i in ids:\n",
    "    #a =str(i)\n",
    "    #print(a)\n",
    "    \n",
    "   "
   ]
  },
  {
   "cell_type": "code",
   "execution_count": null,
   "metadata": {},
   "outputs": [],
   "source": [
    "def last_four(x):\n",
    "    return x[0][4:]\n",
    "\n",
    "\n",
    "ids = [17573005, 17572342, 17579000, 17570002, 17572345, 17579329]\n",
    "a = [str(x) for x in ids]\n",
    "#b = last_four(a)\n",
    "#print(b)\n",
    "\n",
    "sorted_ids =sorted(a, key =last_four)\n",
    "print(sorted_ids)"
   ]
  },
  {
   "cell_type": "code",
   "execution_count": 31,
   "metadata": {},
   "outputs": [
    {
     "name": "stdout",
     "output_type": "stream",
     "text": [
      "['17573005', '17572342', '17579000', '17570002', '17572345', '17579329']\n"
     ]
    }
   ],
   "source": [
    "ids = [17573005, 17572342, 17579000, 17570002, 17572345, 17579329]\n",
    "a = [str(x) for x in ids]\n",
    "\n",
    "sorted_id = list(sorted(a, key= lambda x: x[0][4:] ))\n",
    "print(sorted_id)"
   ]
  },
  {
   "cell_type": "code",
   "execution_count": 34,
   "metadata": {},
   "outputs": [
    {
     "name": "stdout",
     "output_type": "stream",
     "text": [
      "['dance', 'zebra', 'hi', 'how are you', 'apple', 'bye']\n"
     ]
    }
   ],
   "source": [
    "# sorting list by each element's second letter\n",
    "\n",
    "ex_lst = ['hi', 'how are you', 'bye', 'apple', 'zebra', 'dance']\n",
    "\n",
    "\n",
    "lambda_sort = sorted(ex_lst, key = lambda x: x[1])\n",
    "print(lambda_sort)"
   ]
  },
  {
   "cell_type": "code",
   "execution_count": 35,
   "metadata": {},
   "outputs": [
    {
     "name": "stdout",
     "output_type": "stream",
     "text": [
      "['17570002', '17572342', '17572345', '17573005', '17579000', '17579329']\n"
     ]
    }
   ],
   "source": [
    "def last_four(x):\n",
    "    #ids = [17573005, 17572342, 17579000, 17570002, 17572345, 17579329]\n",
    "    #a = [str(y) for y in ids]\n",
    "    \n",
    "    return sorted(x)\n",
    "\n",
    "ids = [17573005, 17572342, 17579000, 17570002, 17572345, 17579329]\n",
    "a = [str(x) for x in ids]\n",
    "\n",
    "\n",
    "sorted_ids = last_four(a)\n",
    "print(sorted_ids)"
   ]
  },
  {
   "cell_type": "code",
   "execution_count": 36,
   "metadata": {},
   "outputs": [
    {
     "name": "stdout",
     "output_type": "stream",
     "text": [
      "I am amitI learn pythoncjava etc\n"
     ]
    }
   ],
   "source": [
    "# project\n",
    "\n",
    "\n",
    "punctuation_chars = [\"'\", '\"', \",\", \".\", \"!\", \":\", \";\", '#', '@']\n",
    "\n",
    "\n",
    "def strip_punctuation(s):\n",
    "    for i in punctuation_chars:\n",
    "        s = s.replace(i, \"\")\n",
    "        \n",
    "    return s\n",
    "\n",
    "a =strip_punctuation(\"I am amit.I learn python,c#,java etc.\")\n",
    "print(a)\n",
    "    "
   ]
  },
  {
   "cell_type": "code",
   "execution_count": null,
   "metadata": {},
   "outputs": [],
   "source": []
  },
  {
   "cell_type": "code",
   "execution_count": null,
   "metadata": {},
   "outputs": [],
   "source": [
    "punctuation_chars = [\"'\", '\"', \",\", \".\", \"!\", \":\", \";\", '#', '@']\n",
    "# list of positive words to use\n",
    "positive_words = []\n",
    "with open(\"positive_words.txt\") as pos_f:\n",
    "    for lin in pos_f:\n",
    "        if lin[0] != ';' and lin[0] != '\\n':\n",
    "            positive_words.append(lin.strip())\n",
    "            \n",
    "    print(positive_words)\n",
    "    \n",
    "def get_pos(s):\n",
    "    count =0\n",
    "    for i in s.split():\n",
    "        if i in positive_words:\n",
    "            count =count+1\n",
    "            \n",
    "    return count\n",
    "\n",
    "a = get_pos(\"i got a+ this year.i accomplished ssc with accurate five.so it is a big achievement and all admire me.so it is extra advantage to carry on.\")\n",
    "print(a)\n"
   ]
  },
  {
   "cell_type": "code",
   "execution_count": 48,
   "metadata": {
    "scrolled": true
   },
   "outputs": [
    {
     "ename": "IndexError",
     "evalue": "list index out of range",
     "output_type": "error",
     "traceback": [
      "\u001b[1;31m---------------------------------------------------------------------------\u001b[0m",
      "\u001b[1;31mIndexError\u001b[0m                                Traceback (most recent call last)",
      "\u001b[1;32m<ipython-input-48-d1b539274c4e>\u001b[0m in \u001b[0;36m<module>\u001b[1;34m\u001b[0m\n\u001b[0;32m      4\u001b[0m \u001b[1;32mfor\u001b[0m \u001b[0mi\u001b[0m \u001b[1;32min\u001b[0m \u001b[0ma\u001b[0m\u001b[1;33m:\u001b[0m\u001b[1;33m\u001b[0m\u001b[1;33m\u001b[0m\u001b[0m\n\u001b[0;32m      5\u001b[0m     \u001b[0mb\u001b[0m \u001b[1;33m=\u001b[0m \u001b[0mi\u001b[0m\u001b[1;33m.\u001b[0m\u001b[0mstrip\u001b[0m\u001b[1;33m(\u001b[0m\u001b[1;33m)\u001b[0m\u001b[1;33m.\u001b[0m\u001b[0msplit\u001b[0m\u001b[1;33m(\u001b[0m\u001b[1;34m\",\"\u001b[0m\u001b[1;33m)\u001b[0m\u001b[1;33m\u001b[0m\u001b[1;33m\u001b[0m\u001b[0m\n\u001b[1;32m----> 6\u001b[1;33m     \u001b[0mprint\u001b[0m\u001b[1;33m(\u001b[0m\u001b[1;34mf\"the count is {b[1]}\"\u001b[0m\u001b[1;33m)\u001b[0m\u001b[1;33m\u001b[0m\u001b[1;33m\u001b[0m\u001b[0m\n\u001b[0m\u001b[0;32m      7\u001b[0m \u001b[1;33m\u001b[0m\u001b[0m\n\u001b[0;32m      8\u001b[0m \u001b[1;33m\u001b[0m\u001b[0m\n",
      "\u001b[1;31mIndexError\u001b[0m: list index out of range"
     ]
    }
   ],
   "source": [
    "\n",
    "\n",
    "given1 = open(\"project_twitter_data.csv\",\"r\")\n",
    "given = given1.readlines()\n",
    "\n",
    "result = open(\"resulting_data.csv\",\"w\")\n",
    "\n",
    "\n",
    "\n",
    "punctuation_chars = [\"'\", '\"', \",\", \".\", \"!\", \":\", \";\", '#', '@']\n",
    "# lists of words to use\n",
    "positive_words = []\n",
    "with open(\"positive_words.txt\") as pos_f:\n",
    "    for lin in pos_f:\n",
    "        if lin[0] != ';' and lin[0] != '\\n':\n",
    "            positive_words.append(lin.strip())\n",
    "\n",
    "            \n",
    "def get_pos(sentence):\n",
    "    s_string = strip_punctuation(sentence)\n",
    "    list_string = s_string.split()\n",
    "    \n",
    "    count =0\n",
    "    for i in list_string:\n",
    "        for word in positive_words:\n",
    "            if i == word:\n",
    "                count = count +1\n",
    "            \n",
    "    return count\n",
    "\n",
    "       \n",
    "\n",
    "negative_words = []\n",
    "with open(\"negative_words.txt\") as pos_f:\n",
    "    for lin in pos_f:\n",
    "        if lin[0] != ';' and lin[0] != '\\n':\n",
    "            negative_words.append(lin.strip())\n",
    "\n",
    "            \n",
    "def get_neg(sentence):\n",
    "    s_string = strip_punctuation(sentence)\n",
    "    list_string = s_string.split()\n",
    "    \n",
    "    count =0\n",
    "    for i in list_string:\n",
    "        for word in negative_words:\n",
    "            if i == word:\n",
    "                count = count +1\n",
    "            \n",
    "    return count\n",
    "            \n",
    "\n",
    "    \n",
    "def strip_punctuation(text):\n",
    "    for i in punctuation_chars:\n",
    "        text = text.replace(i, \"\")\n",
    "        \n",
    "    return text\n",
    "\n",
    "\n",
    "\n",
    "def write_file(result):\n",
    "    result.write(\"Number of Retweets, Number of Replies, Positive Score, Negative Score, Net Score\")\n",
    "    result.write(\"\\n\")\n",
    "    \n",
    "    given = given1.readlines()\n",
    "    header_del = given.pop(0)\n",
    "    \n",
    "    for s in given:\n",
    "        tweet= s.strip().split(\",\")\n",
    "        \n",
    "        result.write(\"{}, {}, {}, {}, {}\".format(tweet[1],tweet[2],get_pos(tweet[0]),get_neg(tweet[0]),(get_pos(tweet[0])-get_neg(tweet[0]))))\n",
    "        result.write(\"\\n\")\n",
    "        \n",
    "        \n",
    "        \n",
    "write_file(result)\n",
    "given1.close()\n",
    "result.close()\n",
    "\n",
    "\n",
    "\n",
    "\n",
    "\n"
   ]
  },
  {
   "cell_type": "code",
   "execution_count": null,
   "metadata": {},
   "outputs": [],
   "source": []
  }
 ],
 "metadata": {
  "kernelspec": {
   "display_name": "Python 3",
   "language": "python",
   "name": "python3"
  },
  "language_info": {
   "codemirror_mode": {
    "name": "ipython",
    "version": 3
   },
   "file_extension": ".py",
   "mimetype": "text/x-python",
   "name": "python",
   "nbconvert_exporter": "python",
   "pygments_lexer": "ipython3",
   "version": "3.7.6"
  }
 },
 "nbformat": 4,
 "nbformat_minor": 4
}
