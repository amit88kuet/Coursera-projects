{
 "cells": [
  {
   "cell_type": "code",
   "execution_count": 1,
   "metadata": {},
   "outputs": [
    {
     "name": "stdout",
     "output_type": "stream",
     "text": [
      "****names****\n",
      "<function square at 0x000002C32E343798>\n",
      "<built-in function abs>\n",
      "<function <lambda> at 0x000002C32E3438B8>\n",
      "****call each of them****\n",
      "4\n",
      "2\n",
      "-1\n",
      "****just the first one in the list****\n",
      "<function square at 0x000002C32E343798>\n",
      "9\n"
     ]
    }
   ],
   "source": [
    "\n",
    "def square(x):\n",
    "    return x*x\n",
    "\n",
    "L = [square, abs, lambda x: x+1]\n",
    "\n",
    "print(\"****names****\")\n",
    "for f in L:\n",
    "    print(f)\n",
    "\n",
    "print(\"****call each of them****\")\n",
    "for f in L:\n",
    "    print(f(-2))\n",
    "\n",
    "print(\"****just the first one in the list****\")\n",
    "print(L[0])\n",
    "print(L[0](3))\n"
   ]
  },
  {
   "cell_type": "code",
   "execution_count": 2,
   "metadata": {},
   "outputs": [
    {
     "name": "stdout",
     "output_type": "stream",
     "text": [
      "{'eye': 'blue', 'hair': 'brown'}\n"
     ]
    }
   ],
   "source": [
    "info = {'personal_data':\n",
    "         {'name': 'Lauren',\n",
    "          'age': 20,\n",
    "          'major': 'Information Science',\n",
    "          'physical_features':\n",
    "             {'color': {'eye': 'blue',\n",
    "                        'hair': 'brown'},\n",
    "              'height': \"5'8\"}\n",
    "         },\n",
    "       'other':\n",
    "         {'favorite_colors': ['purple', 'green', 'blue'],\n",
    "          'interested_in': ['social media', 'intellectual property', 'copyright', 'music', 'books']\n",
    "         }\n",
    "      }\n",
    "\n",
    "color = info['personal_data']['physical_features']['color']\n",
    "print(color)"
   ]
  },
  {
   "cell_type": "code",
   "execution_count": 3,
   "metadata": {},
   "outputs": [
    {
     "name": "stdout",
     "output_type": "stream",
     "text": [
      "\n",
      "\n",
      "\n",
      "{\n",
      " \"resultCount\":25,\n",
      " \"results\": [\n",
      "{\"wrapperType\":\"track\", \"kind\":\"podcast\", \"collectionId\":10892}]}\n",
      "------\n",
      "<class 'dict'>\n",
      "dict_keys(['resultCount', 'results'])\n",
      "25\n"
     ]
    }
   ],
   "source": [
    "\n",
    "import json\n",
    "a_string = '\\n\\n\\n{\\n \"resultCount\":25,\\n \"results\": [\\n{\"wrapperType\":\"track\", \"kind\":\"podcast\", \"collectionId\":10892}]}'\n",
    "print(a_string)\n",
    "d = json.loads(a_string)\n",
    "print(\"------\")\n",
    "print(type(d))\n",
    "print(d.keys())\n",
    "print(d['resultCount'])\n",
    "# print(a_string['resultCount'])\n"
   ]
  },
  {
   "cell_type": "code",
   "execution_count": 4,
   "metadata": {},
   "outputs": [
    {
     "name": "stdout",
     "output_type": "stream",
     "text": [
      "{'key1': {'c': True, 'a': 90, '5': 50}, 'key2': {'b': 3, 'c': 'yes'}}\n",
      "--------\n",
      "{\n",
      "  \"key1\": {\n",
      "    \"5\": 50,\n",
      "    \"a\": 90,\n",
      "    \"c\": true\n",
      "  },\n",
      "  \"key2\": {\n",
      "    \"b\": 3,\n",
      "    \"c\": \"yes\"\n",
      "  }\n",
      "}\n"
     ]
    }
   ],
   "source": [
    "import json\n",
    "def pretty(obj):\n",
    "    return json.dumps(obj, sort_keys=True, indent=2)\n",
    "\n",
    "d = {'key1': {'c': True, 'a': 90, '5': 50}, 'key2':{'b': 3, 'c': \"yes\"}}\n",
    "\n",
    "print(d)\n",
    "print('--------')\n",
    "print(pretty(d))"
   ]
  },
  {
   "cell_type": "code",
   "execution_count": 5,
   "metadata": {},
   "outputs": [
    {
     "name": "stdout",
     "output_type": "stream",
     "text": [
      "[['dogs', 'puppies'], ['cats', 'kittens']]\n",
      "[['dogs', 'puppies', ['canines']], ['cats', 'kittens']]\n",
      "-------- Now look at the copied version -----------\n",
      "[['dogs', 'puppies'], ['cats', 'kittens']]\n"
     ]
    }
   ],
   "source": [
    "original = [['dogs', 'puppies'], ['cats', \"kittens\"]]\n",
    "copied_outer_list = []\n",
    "for inner_list in original:\n",
    "    copied_inner_list = []\n",
    "    for item in inner_list:\n",
    "        copied_inner_list.append(item)\n",
    "    copied_outer_list.append(copied_inner_list)\n",
    "print(copied_outer_list)\n",
    "original[0].append([\"canines\"])\n",
    "print(original)\n",
    "print(\"-------- Now look at the copied version -----------\")\n",
    "print(copied_outer_list)"
   ]
  },
  {
   "cell_type": "code",
   "execution_count": 6,
   "metadata": {},
   "outputs": [
    {
     "name": "stdout",
     "output_type": "stream",
     "text": [
      "[['dogs', 'puppies'], ['cats', 'kittens']]\n",
      "[['dogs', 'puppies', ['canines']], ['cats', 'kittens']]\n",
      "-------- Now look at the copied version -----------\n",
      "[['dogs', 'puppies'], ['cats', 'kittens']]\n"
     ]
    }
   ],
   "source": [
    "original = [['dogs', 'puppies'], ['cats', \"kittens\"]]\n",
    "copied_outer_list = []\n",
    "for inner_list in original:\n",
    "    copied_inner_list = inner_list[:]\n",
    "    copied_outer_list.append(copied_inner_list)\n",
    "print(copied_outer_list)\n",
    "original[0].append([\"canines\"])\n",
    "print(original)\n",
    "print(\"-------- Now look at the copied version -----------\")\n",
    "print(copied_outer_list)"
   ]
  },
  {
   "cell_type": "code",
   "execution_count": 7,
   "metadata": {},
   "outputs": [
    {
     "name": "stdout",
     "output_type": "stream",
     "text": [
      "-------- Original -----------\n",
      "[['canines', ['dogs', 'puppies'], ['marsupials']], ['felines', ['cats', 'kittens']], 'Hi there']\n",
      "-------- deep copy -----------\n",
      "[['canines', ['dogs', 'puppies']], ['felines', ['cats', 'kittens']]]\n",
      "-------- shallow copy -----------\n",
      "[['canines', ['dogs', 'puppies'], ['marsupials']], ['felines', ['cats', 'kittens']]]\n"
     ]
    }
   ],
   "source": [
    "import copy\n",
    "original = [['canines', ['dogs', 'puppies']], ['felines', ['cats', 'kittens']]]\n",
    "shallow_copy_version = original[:]\n",
    "deeply_copied_version = copy.deepcopy(original)\n",
    "original.append(\"Hi there\")\n",
    "original[0].append([\"marsupials\"])\n",
    "print(\"-------- Original -----------\")\n",
    "print(original)\n",
    "print(\"-------- deep copy -----------\")\n",
    "print(deeply_copied_version)\n",
    "print(\"-------- shallow copy -----------\")\n",
    "print(shallow_copy_version)\n"
   ]
  },
  {
   "cell_type": "code",
   "execution_count": null,
   "metadata": {},
   "outputs": [],
   "source": [
    "import json\n",
    "print(type(res))\n",
    "print(res.keys())\n",
    "res2 = res['statuses']\n",
    "print(\"----Level 2: a list of tweets-----\")\n",
    "print(type(res2)) # it's a list!\n",
    "print(len(res2))  # looks like one item representing each of the three tweets\n",
    "for res3 in res2[:1]:\n",
    "   print(\"----Level 3: a tweet----\")\n",
    "   print(json.dumps(res3, indent=2)[:30])\n",
    "   print(type(res3)) # it's a dictionary\n",
    "   print(res3.keys())\n"
   ]
  },
  {
   "cell_type": "code",
   "execution_count": null,
   "metadata": {},
   "outputs": [],
   "source": [
    "import json\n",
    "print(type(res))\n",
    "print(res.keys())\n",
    "res2 = res['statuses']\n",
    "print(\"----Level 2: a list of tweets-----\")\n",
    "print(type(res2)) # it's a list!\n",
    "print(len(res2))  # looks like one item representing each of the three tweets\n",
    "for res3 in res2[:1]:\n",
    "   print(\"----Level 3: a tweet----\")\n",
    "   print(json.dumps(res3, indent=2)[:30])\n",
    "   res4 = res3['user']\n",
    "   print(\"----Level 4: the user who wrote the tweet----\")\n",
    "   print(type(res4)) # it's a dictionary\n",
    "   print(res4.keys())"
   ]
  },
  {
   "cell_type": "code",
   "execution_count": null,
   "metadata": {},
   "outputs": [],
   "source": [
    "for res3 in res['statuses']:\n",
    "    print(res3['user']['screen_name'], res3['user']['created_at'])\n"
   ]
  },
  {
   "cell_type": "code",
   "execution_count": 1,
   "metadata": {},
   "outputs": [
    {
     "name": "stdout",
     "output_type": "stream",
     "text": [
      "[6, 15, 27]\n",
      "[8, 20, 36]\n"
     ]
    }
   ],
   "source": [
    "def triple(value):\n",
    "    return 3*value\n",
    "\n",
    "def tripleStuff(a_list):\n",
    "    new_seq = map(triple, a_list)\n",
    "    return list(new_seq)\n",
    "\n",
    "def quadrupleStuff(a_list):\n",
    "    new_seq = map(lambda value: 4*value, a_list)\n",
    "    return list(new_seq)\n",
    "\n",
    "things = [2, 5, 9]\n",
    "things3 = tripleStuff(things)\n",
    "print(things3)\n",
    "things4 = quadrupleStuff(things)\n",
    "print(things4)\n"
   ]
  },
  {
   "cell_type": "code",
   "execution_count": 2,
   "metadata": {},
   "outputs": [
    {
     "name": "stdout",
     "output_type": "stream",
     "text": [
      "['watermelon', 'kiwi', 'strawberries']\n"
     ]
    }
   ],
   "source": [
    "lst_check = ['plums', 'watermelon', 'kiwi', 'strawberries', 'blueberries', 'peaches', 'apples', 'mangos', 'papaya']\n",
    "\n",
    "def fil(n):\n",
    "    for i in n:\n",
    "        if \"w\" in i:\n",
    "            return i \n",
    "\n",
    "filter_testing = list(filter(fil, lst_check))\n",
    "print(filter_testing)"
   ]
  },
  {
   "cell_type": "code",
   "execution_count": 10,
   "metadata": {},
   "outputs": [
    {
     "name": "stdout",
     "output_type": "stream",
     "text": [
      "['Lauren', 'Ayo', 'Kathryn', 'Nick', 'Gladys', 'Adam']\n"
     ]
    }
   ],
   "source": [
    "\n",
    "tester = {'info': [{\"name\": \"Lauren\", 'class standing': 'Junior', 'major': \"Information Science\"},{'name': 'Ayo', 'class standing': \"Bachelor's\", 'major': 'Information Science'}, {'name': 'Kathryn', 'class standing': 'Senior', 'major': 'Sociology'}, {'name': 'Nick', 'class standing': 'Junior', 'major': 'Computer Science'}, {'name': 'Gladys', 'class standing': 'Sophomore', 'major': 'History'}, {'name': 'Adam', 'major': 'Violin Performance', 'class standing': 'Senior'}]}\n",
    "\n",
    "a = tester[\"info\"]   \n",
    "compri = [ x[\"name\"] for x in a]\n",
    "print(compri)"
   ]
  },
  {
   "cell_type": "code",
   "execution_count": 23,
   "metadata": {},
   "outputs": [
    {
     "name": "stdout",
     "output_type": "stream",
     "text": [
      "[4, 4, 4]\n"
     ]
    }
   ],
   "source": [
    "\n",
    "n =[]\n",
    "def length(s):\n",
    "    a =  filter(lambda x: len(x)>3 ,s)\n",
    "    b = list(map(len, a))\n",
    "    return b\n",
    "\n",
    "print(length([\"amit\",\"rafi\",\"naj\",\"opu\",\"anik\"]))\n",
    "#x = length(s)\n",
    "#print(x)"
   ]
  },
  {
   "cell_type": "code",
   "execution_count": 24,
   "metadata": {},
   "outputs": [
    {
     "name": "stdout",
     "output_type": "stream",
     "text": [
      "[4, 6, 8]\n"
     ]
    }
   ],
   "source": [
    "L1 = [3, 4, 5]\n",
    "L2 = [1, 2, 3]\n",
    "L3 = []\n",
    "L4 = list(zip(L1, L2))\n",
    "\n",
    "for (x1, x2) in L4:\n",
    "    L3.append(x1+x2)\n",
    "\n",
    "print(L3)"
   ]
  },
  {
   "cell_type": "code",
   "execution_count": 26,
   "metadata": {
    "scrolled": true
   },
   "outputs": [
    {
     "name": "stdout",
     "output_type": "stream",
     "text": [
      "[4, 6, 8]\n"
     ]
    }
   ],
   "source": [
    "L1 = [3, 4, 5]\n",
    "L2 = [1, 2, 3]\n",
    "L3 = list(map(lambda x: x[0] + x[1], zip(L1, L2)))\n",
    "print(L3)\n"
   ]
  },
  {
   "cell_type": "code",
   "execution_count": 36,
   "metadata": {
    "scrolled": false
   },
   "outputs": [
    {
     "name": "stdout",
     "output_type": "stream",
     "text": [
      "[1, 2, 2, 3, 3, 3, 4]\n",
      "[16, 32, 54, 100]\n",
      "[17, 34, 56, 103]\n"
     ]
    }
   ],
   "source": [
    "L1 = [1, 5, 2, 16, 32, 3, 54, 8, 100]\n",
    "L2 = [1, 3, 10, 2, 42, 2, 3, 4, 3]\n",
    "\n",
    "L3 = list(sorted(filter(lambda y: y<5 , L2)))\n",
    "print(L3)\n",
    "L4 = list(filter(lambda x: x>10,L1))\n",
    "print(L4)\n",
    "\n",
    "L5 =list(x1+x2 for(x1,x2) in zip(L3,L4))\n",
    "print(L5)"
   ]
  },
  {
   "cell_type": "code",
   "execution_count": 1,
   "metadata": {},
   "outputs": [
    {
     "name": "stdout",
     "output_type": "stream",
     "text": [
      "['Fruit:plums', 'Fruit:watermelon', 'Fruit:kiwi', 'Fruit:strawberries', 'Fruit:blueberries', 'Fruit:peaches', 'Fruit:apples', 'Fruit:mangos', 'Fruit:papaya']\n"
     ]
    }
   ],
   "source": [
    "lst_check = ['plums', 'watermelon', 'kiwi', 'strawberries', 'blueberries', 'peaches', 'apples', 'mangos', 'papaya']\n",
    "\n",
    "a = list(map(lambda x: \"Fruit:\"+x , lst_check))\n",
    "print(a)"
   ]
  },
  {
   "cell_type": "code",
   "execution_count": 3,
   "metadata": {},
   "outputs": [
    {
     "name": "stdout",
     "output_type": "stream",
     "text": [
      "[['hi', 'bye', 'hi', 'bye'], 'hellohello', 'goodbyegoodbye', [9, 2, 9, 2], 8]\n"
     ]
    }
   ],
   "source": [
    "lst = [[\"hi\", \"bye\"], \"hello\", \"goodbye\", [9, 2], 4]\n",
    "\n",
    "lst2 = list(map(lambda x: x*2 , lst))\n",
    "\n",
    "        \n",
    "print(lst2)"
   ]
  },
  {
   "cell_type": "code",
   "execution_count": 10,
   "metadata": {},
   "outputs": [
    {
     "name": "stdout",
     "output_type": "stream",
     "text": [
      "['left', 'front']\n",
      "['right', 'down', 'back']\n",
      "[('left', 'right'), ('front', 'down')]\n"
     ]
    }
   ],
   "source": [
    "l1 = ['left', 'up', 'front']\n",
    "l2 = ['right', 'down', 'back']\n",
    "\n",
    "a1 = list(filter(lambda x: len(x)>3 ,l1))\n",
    "print(a1)\n",
    "\n",
    "a2 = list(filter(lambda x: len(x)>3 , l2))\n",
    "print(a2)\n",
    "\n",
    "opposites = list(zip(a1,a2))\n",
    "print(opposites)      "
   ]
  },
  {
   "cell_type": "code",
   "execution_count": null,
   "metadata": {},
   "outputs": [],
   "source": [
    "opposites = list((filter(lambda x: len(x)>3  ,zip(l1,l2))))\n",
    "print(opposites) "
   ]
  },
  {
   "cell_type": "code",
   "execution_count": 11,
   "metadata": {},
   "outputs": [
    {
     "name": "stdout",
     "output_type": "stream",
     "text": [
      "(('golden retriever', 10000), ('white tailed deer', 90000), ('black rhino', 1000), ('brown squirrel', 2000000), ('field mouse', 500000), ('orangutan', 500), ('sumatran elephant', 1200), ('rainbow trout', 8000), ('black bear', 12000), ('blue whale', 2300), ('water moccasin', 7500), ('giant panda', 100), ('green turtle', 1800), ('blue jay', 9500), ('japanese beetle', 125000))\n",
      "['black rhino', 'orangutan', 'sumatran elephant', 'blue whale', 'giant panda', 'green turtle']\n"
     ]
    }
   ],
   "source": [
    "# first make a tuple using zip function with species and population\n",
    "# print list contains names whose population below 2500\n",
    "\n",
    "\n",
    "species = ['golden retriever', 'white tailed deer', 'black rhino', 'brown squirrel', 'field mouse', 'orangutan', 'sumatran elephant', 'rainbow trout', 'black bear', 'blue whale', 'water moccasin', 'giant panda', 'green turtle', 'blue jay', 'japanese beetle']\n",
    "\n",
    "population = [10000, 90000, 1000, 2000000, 500000, 500, 1200, 8000, 12000, 2300, 7500, 100, 1800, 9500, 125000]\n",
    "\n",
    "pop_info =tuple(zip(species,population))\n",
    "print(pop_info)\n",
    "\n",
    "endangered = list(x for (x,y) in pop_info if y<2500)\n",
    "print(endangered)"
   ]
  },
  {
   "cell_type": "code",
   "execution_count": null,
   "metadata": {},
   "outputs": [],
   "source": [
    "\n",
    "import requests\n",
    "import json\n",
    "\n",
    "page = requests.get(\"https://api.datamuse.com/words?rel_rhy=funny\")\n",
    "print(type(page))\n",
    "print(page.text[:150]) # print the first 150 characters\n",
    "print(page.url) # print the url that was fetched\n",
    "print(\"------\")\n",
    "x = page.json() # turn page.text into a python object\n",
    "print(type(x))\n",
    "print(\"---first item in the list---\")\n",
    "print(x[0])\n",
    "print(\"---the whole list, pretty printed---\")\n",
    "print(json.dumps(x, indent=2)) # pretty print the results\n"
   ]
  },
  {
   "cell_type": "code",
   "execution_count": null,
   "metadata": {},
   "outputs": [],
   "source": [
    "\n",
    "import requests\n",
    "\n",
    "# page = requests.get(\"https://api.datamuse.com/words?rel_rhy=funny\")\n",
    "kval_pairs = {'rel_rhy': 'funny'}\n",
    "page = requests.get(\"https://api.datamuse.com/words\", params=kval_pairs)\n",
    "print(page.text[:150]) # print the first 150 characters\n",
    "print(page.url) # print the url that was fetched\n"
   ]
  },
  {
   "cell_type": "code",
   "execution_count": 12,
   "metadata": {},
   "outputs": [
    {
     "name": "stdout",
     "output_type": "stream",
     "text": [
      "['money', 'honey', 'sunny']\n"
     ]
    }
   ],
   "source": [
    "\n",
    "# import statements for necessary Python modules\n",
    "import requests\n",
    "\n",
    "def get_rhymes(word):\n",
    "    baseurl = \"https://api.datamuse.com/words\"\n",
    "    params_diction = {} # Set up an empty dictionary for query parameters\n",
    "    params_diction[\"rel_rhy\"] = word\n",
    "    params_diction[\"max\"] = \"3\" # get at most 3 results\n",
    "    resp = requests.get(baseurl, params=params_diction)\n",
    "    # return the top three words\n",
    "    word_ds = resp.json()\n",
    "    return [d['word'] for d in word_ds]\n",
    "    return resp.json() # Return a python object (a list of dictionaries in this case)\n",
    "\n",
    "print(get_rhymes(\"funny\"))"
   ]
  },
  {
   "cell_type": "code",
   "execution_count": null,
   "metadata": {},
   "outputs": [],
   "source": [
    "# \"requests_with_caching\" this module is only available in coursera interface \n",
    "# not in jupyter notebook\n",
    "\n",
    "\n",
    "import requests_with_caching\n",
    "import json\n",
    "\n",
    "parameters = {\"term\": \"Ann Arbor\", \"entity\": \"podcast\"}\n",
    "iTunes_response = requests_with_caching.get(\"https://itunes.apple.com/search\", params = parameters,permanent_cache_file=\"itunes_cache.txt\")\n",
    "\n",
    "py_data = json.loads(iTunes_response.text)"
   ]
  },
  {
   "cell_type": "code",
   "execution_count": null,
   "metadata": {},
   "outputs": [],
   "source": [
    "\n",
    "import requests_with_caching\n",
    "import json\n",
    "\n",
    "parameters = {\"term\": \"Ann Arbor\", \"entity\": \"podcast\"}\n",
    "iTunes_response = requests_with_caching.get(\"https://itunes.apple.com/search\", params = parameters, permanent_cache_file=\"itunes_cache.txt\")\n",
    "\n",
    "py_data = json.loads(iTunes_response.text)\n",
    "for r in py_data['results']:\n",
    "    print(r['trackName'])\n"
   ]
  },
  {
   "cell_type": "code",
   "execution_count": null,
   "metadata": {},
   "outputs": [],
   "source": [
    "# import statements\n",
    "import requests_with_caching\n",
    "import json\n",
    "# import webbrowser\n",
    "\n",
    "# apply for a flickr authentication key at http://www.flickr.com/services/apps/create/apply/?\n",
    "# paste the key (not the secret) as the value of the variable flickr_key\n",
    "flickr_key = 'yourkeyhere'\n",
    "\n",
    "def get_flickr_data(tags_string):\n",
    "    baseurl = \"https://api.flickr.com/services/rest/\"\n",
    "    params_diction = {}\n",
    "    params_diction[\"api_key\"] = flickr_key # from the above global variable\n",
    "    params_diction[\"tags\"] = tags_string # must be a comma separated string to work correctly\n",
    "    params_diction[\"tag_mode\"] = \"all\"\n",
    "    params_diction[\"method\"] = \"flickr.photos.search\"\n",
    "    params_diction[\"per_page\"] = 5\n",
    "    params_diction[\"media\"] = \"photos\"\n",
    "    params_diction[\"format\"] = \"json\"\n",
    "    params_diction[\"nojsoncallback\"] = 1\n",
    "    flickr_resp = requests_with_caching.get(baseurl, params = params_diction, permanent_cache_file=\"flickr_cache.txt\")\n",
    "    # Useful for debugging: print the url! Uncomment the below line to do so.\n",
    "    print(flickr_resp.url) # Paste the result into the browser to check it out...\n",
    "    return flickr_resp.json()\n",
    "\n",
    "result_river_mts = get_flickr_data(\"river,mountains\")\n",
    "\n",
    "# Some code to open up a few photos that are tagged with the mountains and river tags...\n",
    "\n",
    "photos = result_river_mts['photos']['photo']\n",
    "for photo in photos:\n",
    "    owner = photo['owner']\n",
    "    photo_id = photo['id']\n",
    "    url = 'https://www.flickr.com/photos/{}/{}'.format(owner, photo_id)\n",
    "    print(url)\n",
    "    # webbrowser.open(url)\n"
   ]
  },
  {
   "cell_type": "code",
   "execution_count": null,
   "metadata": {},
   "outputs": [],
   "source": [
    "# Final project of course 3_coursera\n",
    "\n",
    "\n",
    "\n",
    "import requests_with_caching\n",
    "import json\n",
    "\n",
    "def get_movies_from_tastedive(movieName):\n",
    "    baseurl=\"https://tastedive.com/api/similar\"\n",
    "    params_d = {}\n",
    "    params_d[\"q\"]= movieName\n",
    "    #params_d[\"k\"]= key\n",
    "    params_d[\"type\"]= \"movies\"\n",
    "    params_d[\"limit\"] = \"5\"\n",
    "    resp = requests_with_caching.get(baseurl, params=params_d)\n",
    "    #print(resp.url)\n",
    "    respDic = resp.json()\n",
    "    return respDic \n",
    "\n",
    "\n",
    "def extract_movie_titles(movieName):\n",
    "    result=[]\n",
    "    for listRes in movieName['Similar']['Results']:\n",
    "        result.append(listRes['Name'])\n",
    "    return result\n",
    "\n",
    "\n",
    "def get_related_titles(listMovieName):\n",
    "    if listMovieName != []:\n",
    "        auxList=[]\n",
    "        relatedList=[]\n",
    "        for movieName in listMovieName:\n",
    "            auxList = extract_movie_titles(get_movies_from_tastedive(movieName))\n",
    "            for movieNameAux in auxList:\n",
    "                if movieNameAux not in relatedList:\n",
    "                    relatedList.append(movieNameAux)\n",
    "        \n",
    "        return relatedList\n",
    "    return listMovieName\n",
    "\n",
    "\n",
    "def get_movie_data(movieName, key=\"546c6742\"):\n",
    "    baseurl=\"https://www.omdbapi.com/\"\n",
    "    params_d = {}\n",
    "    params_d[\"t\"]= movieName\n",
    "    #params_d[\"k\"]= \"\"\n",
    "    params_d[\"apikey\"]= key\n",
    "    #params_d[\"type\"]= \"movie\"\n",
    "    params_d[\"r\"] = \"json\"     \n",
    "    resp = requests_with_caching.get(baseurl, params=params_d)\n",
    "    #print(resp.url)\n",
    "    respDic = resp.json()\n",
    "    return respDic \n",
    "\n",
    "\n",
    "def get_movie_rating(movieNameJson):\n",
    "    strRanting=\" \"\n",
    "    for typeRantingList in movieNameJson[\"Ratings\"]:\n",
    "        if typeRantingList[\"Source\"] == \"Rotten Tomatoes\":\n",
    "            strRanting = typeRantingList[\"Value\"]\n",
    "            \n",
    "    #if strRanting != \"\":\n",
    "            ranting = int(strRanting[:2])-1\n",
    "            if typeRantingList[\"Value\"] == 0:\n",
    "                ranting = 0\n",
    "    #else: \n",
    "        #ranting = 0\n",
    "    return ranting\n",
    "\n",
    "\n",
    "def get_sorted_recommendations(listMovieTitle):\n",
    "    listMovie= get_related_titles(listMovieTitle)\n",
    "    listMovie= sorted(listMovie, key = lambda movieName: (get_movie_rating(get_movie_data(movieName)), movieName), reverse=True)\n",
    "    \n",
    "    return listMovie\n",
    "\n",
    "print(get_sorted_recommendations([\"Bridesmaids\", \"Sherlock Holmes\"]))\n",
    "\n",
    "\n",
    "\n",
    "a = get_movies_from_tastedive(\"Bridesmaids\")\n",
    "print(a)"
   ]
  }
 ],
 "metadata": {
  "kernelspec": {
   "display_name": "Python 3",
   "language": "python",
   "name": "python3"
  },
  "language_info": {
   "codemirror_mode": {
    "name": "ipython",
    "version": 3
   },
   "file_extension": ".py",
   "mimetype": "text/x-python",
   "name": "python",
   "nbconvert_exporter": "python",
   "pygments_lexer": "ipython3",
   "version": "3.7.6"
  }
 },
 "nbformat": 4,
 "nbformat_minor": 4
}
