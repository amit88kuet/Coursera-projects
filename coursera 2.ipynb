{
 "cells": [
  {
   "cell_type": "code",
   "execution_count": 3,
   "metadata": {},
   "outputs": [],
   "source": [
    "fileref = open(\"C:/Users/Amit Deb Roy/Desktop/python.txt\", \"r\")\n",
    "## other code here that refers to variable fileref\n",
    "fileref.close()\n"
   ]
  },
  {
   "cell_type": "code",
   "execution_count": null,
   "metadata": {},
   "outputs": [],
   "source": [
    "a = open(\"school_prompt2.txt\",\"r\")\n",
    "b = a.read()\n",
    "num_char = len(b)\n",
    "print(num_char)\n",
    "a.close()"
   ]
  },
  {
   "cell_type": "code",
   "execution_count": 2,
   "metadata": {},
   "outputs": [
    {
     "name": "stdout",
     "output_type": "stream",
     "text": [
      "10\n"
     ]
    }
   ],
   "source": [
    "# to find the number of lines in a text\n",
    "\n",
    "a = open(\"C:/Users/Amit Deb Roy/Desktop/python.txt\",\"r\")\n",
    "b = a.readlines()\n",
    "\n",
    "num_lines = len(b)\n",
    "print(num_lines)\n",
    "a.close()\n"
   ]
  },
  {
   "cell_type": "code",
   "execution_count": 4,
   "metadata": {},
   "outputs": [
    {
     "name": "stdout",
     "output_type": "stream",
     "text": [
      "['\\n', 'I am Amit\\n', '\\n', 'I am studying EEE in KUET\\n', '\\n', 'I am a final year student of KUET\\n', '\\n', 'My intention is to go abroad for higher study\\n', '\\n', \"Let's see what happen in the next\"]\n"
     ]
    }
   ],
   "source": [
    "# to print the first 40 chars\n",
    "\n",
    "a = open(\"C:/Users/Amit Deb Roy/Desktop/python.txt\",\"r\")\n",
    "first_forty = a.readlines()\n",
    "print(first_forty[ : 40]) \n",
    "\n",
    "a.close()"
   ]
  },
  {
   "cell_type": "code",
   "execution_count": null,
   "metadata": {},
   "outputs": [],
   "source": [
    "# to find the total lines without using len() function\n",
    "\n",
    "a = open(\"emotion_words.txt\",\"r\")\n",
    "b = a.readlines()\n",
    "\n",
    "num_lines = 0\n",
    "for i in b :\n",
    "    num_lines=num_lines +1\n",
    "print(num_lines)\n",
    "\n",
    "a.close()"
   ]
  },
  {
   "cell_type": "code",
   "execution_count": 5,
   "metadata": {},
   "outputs": [
    {
     "name": "stdout",
     "output_type": "stream",
     "text": [
      "1\n",
      "4\n",
      "9\n",
      "16\n",
      "2\n"
     ]
    }
   ],
   "source": [
    "\n",
    "create_file = open(\"create.txt\", \"w\")\n",
    "\n",
    "for number in range(1, 13):\n",
    "    square = number * number\n",
    "    create_file.write(str(square) + \"\\n\")      #it will make new line every time\n",
    "\n",
    "create_file.close()\n",
    "\n",
    "file = open(\"create.txt\", \"r\")\n",
    "print(file.read()[:10])\n",
    "file.close()"
   ]
  },
  {
   "cell_type": "code",
   "execution_count": 1,
   "metadata": {},
   "outputs": [],
   "source": [
    "olympians = [(\"John Aalberg\", 31, \"Cross Country Skiing\"),\n",
    "             (\"Minna Maarit Aalto\", 30, \"Sailing\"),\n",
    "             (\"Win Valdemar Aaltonen\", 54, \"Art Competitions\"),\n",
    "             (\"Wakako Abe\", 18, \"Cycling\")]\n",
    "\n",
    "outfile = open(\"reduced_olympics.csv\", \"w\")\n",
    "# output the header row\n",
    "outfile.write('Name,Age,Sport')\n",
    "outfile.write('\\n')\n",
    "# output each of the rows:\n",
    "for olympian in olympians:\n",
    "    row_string = '{},{},{}'.format(olympian[0], olympian[1], olympian[2])\n",
    "    outfile.write(row_string)\n",
    "    outfile.write('\\n')\n",
    "outfile.close()\n"
   ]
  },
  {
   "cell_type": "code",
   "execution_count": 8,
   "metadata": {},
   "outputs": [
    {
     "ename": "AttributeError",
     "evalue": "'list' object has no attribute 'split'",
     "output_type": "error",
     "traceback": [
      "\u001b[1;31m---------------------------------------------------------------------------\u001b[0m",
      "\u001b[1;31mAttributeError\u001b[0m                            Traceback (most recent call last)",
      "\u001b[1;32m<ipython-input-8-ce3638d9fb0a>\u001b[0m in \u001b[0;36m<module>\u001b[1;34m\u001b[0m\n\u001b[0;32m      1\u001b[0m \u001b[0ma\u001b[0m \u001b[1;33m=\u001b[0m \u001b[0mopen\u001b[0m\u001b[1;33m(\u001b[0m\u001b[1;34m\"C:/Users/Amit Deb Roy/Desktop/python.txt\"\u001b[0m\u001b[1;33m,\u001b[0m\u001b[1;34m\"r\"\u001b[0m\u001b[1;33m)\u001b[0m\u001b[1;33m\u001b[0m\u001b[1;33m\u001b[0m\u001b[0m\n\u001b[1;32m----> 2\u001b[1;33m \u001b[0mb\u001b[0m \u001b[1;33m=\u001b[0m \u001b[0ma\u001b[0m\u001b[1;33m.\u001b[0m\u001b[0mreadlines\u001b[0m\u001b[1;33m(\u001b[0m\u001b[1;33m)\u001b[0m\u001b[1;33m.\u001b[0m\u001b[0msplit\u001b[0m\u001b[1;33m(\u001b[0m\u001b[1;34m\" \"\u001b[0m\u001b[1;33m)\u001b[0m\u001b[1;33m\u001b[0m\u001b[1;33m\u001b[0m\u001b[0m\n\u001b[0m\u001b[0;32m      3\u001b[0m \u001b[0mprint\u001b[0m\u001b[1;33m(\u001b[0m\u001b[0mb\u001b[0m\u001b[1;33m)\u001b[0m\u001b[1;33m\u001b[0m\u001b[1;33m\u001b[0m\u001b[0m\n\u001b[0;32m      4\u001b[0m \u001b[1;33m\u001b[0m\u001b[0m\n\u001b[0;32m      5\u001b[0m \u001b[0mc\u001b[0m \u001b[1;33m=\u001b[0m \u001b[1;33m[\u001b[0m\u001b[0mx\u001b[0m \u001b[1;32mfor\u001b[0m \u001b[0mx\u001b[0m \u001b[1;32min\u001b[0m \u001b[0mb\u001b[0m\u001b[1;33m]\u001b[0m\u001b[1;33m\u001b[0m\u001b[1;33m\u001b[0m\u001b[0m\n",
      "\u001b[1;31mAttributeError\u001b[0m: 'list' object has no attribute 'split'"
     ]
    }
   ],
   "source": [
    "# To find the number of words in the text\n",
    "# the result of b is :\n",
    "# ['Sad upset blue down melancholy somber bitter troubled\\n', 'Angry mad enraged irate irritable wrathful outraged infuriated\\n', 'Happy cheerful content elated joyous delighted lively glad\\n', 'Confused disoriented puzzled perplexed dazed befuddled\\n', 'Excited eager thrilled delighted\\n', 'Scared afraid fearful panicked terrified petrified startled\\n', 'Nervous anxious jittery jumpy tense uneasy apprehensive\\n']\n",
    "\n",
    "\n",
    "a = open(\"emotion_words.txt\",\"r\")\n",
    "b = a.readlines()\n",
    "\n",
    "print(b)\n",
    "\n",
    "num_words = 0\n",
    "for i in b:\n",
    "    num_words = num_words + len(i.split())\n",
    "    \n",
    "print(num_words)\n",
    "    \n",
    "a.close()"
   ]
  },
  {
   "cell_type": "code",
   "execution_count": null,
   "metadata": {},
   "outputs": [],
   "source": [
    "# To assign third word of each line into a list\n",
    "\n",
    "\n",
    "a =  open(\"school_prompt.txt\",\"r\")\n",
    "b = a.readlines()\n",
    "\n",
    "print(b)\n",
    "\n",
    "three = []\n",
    "for i in b :\n",
    "    c = i.split()[2]\n",
    "    \n",
    "    three.append(c)\n",
    "    \n",
    "print(three)\n",
    "\n"
   ]
  },
  {
   "cell_type": "code",
   "execution_count": null,
   "metadata": {},
   "outputs": [],
   "source": [
    "# To add first 33 characters of text in a string\n",
    "\n",
    "a =  open(\"travel_plans.txt\",\"r\")\n",
    "first_chars = a.read()[ : 33]\n",
    "\n",
    "print(first_chars)\n"
   ]
  },
  {
   "cell_type": "code",
   "execution_count": null,
   "metadata": {},
   "outputs": [],
   "source": [
    "# add those words in list which has \"p\" in them\n",
    "\n",
    "op=open('school_prompt.txt','a')\n",
    "\n",
    "p_words=[]\n",
    "for i in op:\n",
    "    k=i.split()\n",
    "    print(k)\n",
    "    for i in k:\n",
    "        if 'p' in i:\n",
    "            p_words.append(i)\n",
    "        else:\n",
    "            pass"
   ]
  },
  {
   "cell_type": "code",
   "execution_count": null,
   "metadata": {},
   "outputs": [],
   "source": [
    "# how many times \"t\" is in the text\n",
    "\n",
    "\n",
    "f = open('scarlet.txt', 'r')\n",
    "txt = f.read()\n",
    "\n",
    "x = {}                 # start with an empty dictionary\n",
    "for c in txt:\n",
    "    if c not in x:\n",
    "        x[c] = 0\n",
    "\n",
    "    x[c] = x[c] + 1\n",
    "\n",
    "print(\"t: \" + str(x['t']) + \" occurrences\")\n",
    "print(\"s: \" + str(x['s']) + \" occurrences\")\n"
   ]
  },
  {
   "cell_type": "code",
   "execution_count": 1,
   "metadata": {},
   "outputs": [
    {
     "name": "stdout",
     "output_type": "stream",
     "text": [
      "{'The': 1, 'dog': 1, 'chased': 1, 'the': 3, 'rabbit': 2, 'into': 1, 'forest': 1, 'but': 1, 'was': 1, 'too': 1, 'quick.': 1}\n",
      "No. of the :  3\n"
     ]
    }
   ],
   "source": [
    "\n",
    "\n",
    "sentence = \"The dog chased the rabbit into the forest but the rabbit was too quick.\"\n",
    "\n",
    "a = sentence.split()\n",
    "\n",
    "dic = {}\n",
    "\n",
    "for x in a :\n",
    "    if x not in dic :\n",
    "        dic[x] = 0\n",
    "        \n",
    "    dic[x] = dic[x] + 1\n",
    "    \n",
    "print(dic)\n",
    "print(\"No. of the : \", dic[\"the\"])\n",
    "\n",
    "\n",
    "\n"
   ]
  },
  {
   "cell_type": "code",
   "execution_count": 4,
   "metadata": {},
   "outputs": [
    {
     "name": "stdout",
     "output_type": "stream",
     "text": [
      "{'w': 1, 'h': 1, 'a': 2, 't': 1, ' ': 3, 'c': 1, 'n': 1, 'I': 1, 'd': 1, 'o': 1}\n"
     ]
    }
   ],
   "source": [
    "stri = \"what can I do\"\n",
    "\n",
    "char_d = {}\n",
    "\n",
    "for x in stri :\n",
    "    if x not in char_d  :\n",
    "        char_d [x] = 0\n",
    "        \n",
    "    char_d [x] = char_d [x] + 1\n",
    "    \n",
    "print(char_d )"
   ]
  },
  {
   "cell_type": "code",
   "execution_count": 19,
   "metadata": {},
   "outputs": [
    {
     "name": "stdout",
     "output_type": "stream",
     "text": [
      "{'B': 2, 'e': 17, 'a': 12, 'c': 8, 'h': 4, 's': 10, ' ': 27, 'r': 7, 'o': 10, 'l': 8, 'p': 6, 't': 8, 'v': 3, 'i': 13, 'n': 7, 'g': 2, 'w': 3, 'M': 3, 'k': 2, 'd': 2, '.': 2, 'x': 1}\n",
      "The lowest value is :  1\n",
      "The lowest key is :  x\n"
     ]
    }
   ],
   "source": [
    "# Return the char which has min value\n",
    "\n",
    "a = \"Beaches are cool places to visit in spring however the Mackinaw Bridge is near. Most people visit Mackinaw later since the island is a cool place to explore.\"\n",
    "\n",
    "d = {}\n",
    "\n",
    "for x in a :\n",
    "    if x not in d :\n",
    "        d[x] = 0\n",
    "        \n",
    "    d[x] = d[x] + 1\n",
    "    \n",
    "print(d)\n",
    "\n",
    "min_value = min(d.values())\n",
    "print(\"The lowest value is : \",min_value)\n",
    "\n",
    "for i in d :\n",
    "    if d[i] == min_value :\n",
    "        print(\"The lowest key is : \",i)\n",
    "        \n",
    "    else :\n",
    "        pass"
   ]
  },
  {
   "cell_type": "code",
   "execution_count": 33,
   "metadata": {},
   "outputs": [
    {
     "name": "stdout",
     "output_type": "stream",
     "text": [
      "{'i': 2, 'p': 2, 'h': 2, 'o': 3, 'n': 4, 'e': 2, ' ': 3, 'a': 2, 'd': 3, 'r': 1, 's': 1}\n",
      "The highest key is :  n\n"
     ]
    }
   ],
   "source": [
    "# Return the char which has max value\n",
    "\n",
    "product = \"iphone and android phones\"\n",
    "\n",
    "d = {}\n",
    "\n",
    "for x in product :\n",
    "    if x not in d :\n",
    "        d[x] = 0\n",
    "        \n",
    "    d[x] = d[x] + 1\n",
    "    \n",
    "print(d)\n",
    "\n",
    "a = list(d.keys())\n",
    "\n",
    "max_value = a[0]\n",
    "\n",
    "for i in a :\n",
    "    if d[i] > d[max_value] :\n",
    "        max_value = i\n",
    "        \n",
    "print(\"The highest key is : \",max_value)\n",
    "        \n",
    "    "
   ]
  },
  {
   "cell_type": "code",
   "execution_count": null,
   "metadata": {},
   "outputs": [],
   "source": [
    "f = open('scarlet2.txt', 'r')\n",
    "txt = f.read()\n",
    "\n",
    "x = {}         # start with an empty dictionary\n",
    "for c in txt:\n",
    "    if c not in x:\n",
    "        x[c] = 0\n",
    "\n",
    "    x[c] = x[c] + 1\n",
    "\n",
    "letter_values = {'a': 1, 'b': 3, 'c': 3, 'd': 2, 'e': 1, 'f':4, 'g': 2, 'h':4, 'i':1, 'j':8, 'k':5, 'l':1, 'm':3, 'n':1, 'o':1, 'p':3, 'q':10, 'r':1, 's':1, 't':1, 'u':1, 'v':4, 'w':4, 'x':8, 'y':4, 'z':10}\n",
    "\n",
    "tot = 0\n",
    "for y in x:\n",
    "    if y in letter_values:\n",
    "        tot = tot + letter_values[y] * x[y]\n",
    "\n",
    "print(tot)\n"
   ]
  },
  {
   "cell_type": "code",
   "execution_count": 4,
   "metadata": {},
   "outputs": [
    {
     "name": "stdout",
     "output_type": "stream",
     "text": [
      "Hello,my name is Becky and I love  SI 106.\n"
     ]
    }
   ],
   "source": [
    "\n",
    "def intro(s):\n",
    "    return(\"Hello\"+\",my name is \"+ s +\" and I love  SI 106.\")\n",
    "\n",
    "a = intro(\"Becky\")\n",
    "print(a)\n",
    "\n"
   ]
  },
  {
   "cell_type": "code",
   "execution_count": 2,
   "metadata": {},
   "outputs": [
    {
     "name": "stdout",
     "output_type": "stream",
     "text": [
      "[1, 2, 3, 4]\n"
     ]
    }
   ],
   "source": [
    "a = []\n",
    "def stop_at_four():\n",
    "    n =[1,2,3,4]\n",
    "    i =0\n",
    "    while i<len(n):\n",
    "        a.append(n[i])\n",
    "        i = i+1\n",
    "    return a\n",
    "\n",
    "b = stop_at_four()\n",
    "print(b)"
   ]
  },
  {
   "cell_type": "code",
   "execution_count": 3,
   "metadata": {},
   "outputs": [
    {
     "name": "stdout",
     "output_type": "stream",
     "text": [
      "Enter price of item (0 when done): 45.5\n",
      "Subtotal: $ 45.5\n",
      "Enter price of item (0 when done): 0\n",
      "Total items: 1\n",
      "Total $ 45.5\n",
      "Average price per item: $ 45.5\n"
     ]
    }
   ],
   "source": [
    "def checkout():\n",
    "    total = 0\n",
    "    count = 0\n",
    "    moreItems = True\n",
    "    while moreItems:\n",
    "        price = float(input('Enter price of item (0 when done): '))\n",
    "        if price != 0:\n",
    "            count = count + 1\n",
    "            total = total + price\n",
    "            print('Subtotal: $', total)\n",
    "        else:\n",
    "            moreItems = False\n",
    "    average = total / count\n",
    "    print('Total items:', count)\n",
    "    print('Total $', total)\n",
    "    print('Average price per item: $', average)\n",
    "\n",
    "checkout()\n"
   ]
  },
  {
   "cell_type": "code",
   "execution_count": null,
   "metadata": {},
   "outputs": [],
   "source": [
    "def get_yes_or_no(message):\n",
    "    valid_input = False\n",
    "    while not valid_input:\n",
    "        answer = input(message)\n",
    "        answer = answer.upper() # convert to upper case\n",
    "        if answer == 'Y' or answer == 'N':\n",
    "            valid_input = True\n",
    "        else:\n",
    "            print('Please enter Y for yes or N for no.')\n",
    "    return answer\n",
    "\n",
    "response = get_yes_or_no('Do you like lima beans? Y)es or N)o: ')\n",
    "if response == 'Y':\n",
    "    print('Great! They are very healthy.')\n",
    "else:\n",
    "    print('Too bad. If cooked right, they are quite tasty.')\n"
   ]
  },
  {
   "cell_type": "code",
   "execution_count": 4,
   "metadata": {},
   "outputs": [
    {
     "name": "stdout",
     "output_type": "stream",
     "text": [
      "[1, 2, 3, 4]\n"
     ]
    }
   ],
   "source": [
    "def sublist(input_list):\n",
    "    output_list = []\n",
    "    index = 0\n",
    "    while index < len(input_list):\n",
    "        if input_list[index] != 5:\n",
    "            output_list.append(input_list[index])\n",
    "            index += 1\n",
    "        else:\n",
    "            break\n",
    "    return output_list\n",
    "\n",
    "\n",
    "a = sublist([1,2,3,4,5,6])\n",
    "print(a)"
   ]
  },
  {
   "cell_type": "code",
   "execution_count": 5,
   "metadata": {},
   "outputs": [
    {
     "name": "stdout",
     "output_type": "stream",
     "text": [
      "The scores Jack got were: 67,89,91.\n",
      "The scores Emily got were: 72,95,42.\n",
      "The scores Taylor got were: 83,92,86.\n"
     ]
    }
   ],
   "source": [
    "\n",
    "names_scores = [(\"Jack\",[67,89,91]),(\"Emily\",[72,95,42]),(\"Taylor\",[83,92,86])]\n",
    "for name, scores in names_scores:\n",
    "    print(\"The scores {nm} got were: {s1},{s2},{s3}.\".format(nm=name,s1=scores[0],s2=scores[1],s3=scores[2]))\n"
   ]
  },
  {
   "cell_type": "code",
   "execution_count": 18,
   "metadata": {},
   "outputs": [
    {
     "name": "stdout",
     "output_type": "stream",
     "text": [
      "Water type 10\n"
     ]
    }
   ],
   "source": [
    "def waste(var, mar, marble):\n",
    "    final_string = var+ \" \" + marble + \" \" + mar\n",
    "    return final_string\n",
    "\n",
    "a = waste(var=\"Water\",mar=\"10\",marble=\"type\")\n",
    "print(a)\n"
   ]
  },
  {
   "cell_type": "code",
   "execution_count": 28,
   "metadata": {},
   "outputs": [
    {
     "name": "stdout",
     "output_type": "stream",
     "text": [
      "Hello Bob!\n",
      "Hello !\n",
      "Hello Bob!!!\n"
     ]
    }
   ],
   "source": [
    "def greeting(name,greeting=\"Hello \", excl=\"!\"):\n",
    "    return greeting + name + excl\n",
    "\n",
    "print(greeting(\"Bob\"))\n",
    "print(greeting(\"\"))\n",
    "print(greeting(\"Bob\", excl=\"!!!\"))\n"
   ]
  },
  {
   "cell_type": "code",
   "execution_count": 29,
   "metadata": {},
   "outputs": [
    {
     "name": "stdout",
     "output_type": "stream",
     "text": [
      "5\n"
     ]
    }
   ],
   "source": [
    "def test(a,b=True,dict1={2:3, 4:5, 6:8}):\n",
    "    \n",
    "    x = list(dict1.keys())\n",
    "    if b==True:\n",
    "        if a in x:\n",
    "            return dict1[a]\n",
    "        \n",
    "    else:\n",
    "        return False\n",
    "\n",
    "c = test(4)\n",
    "print(c)"
   ]
  },
  {
   "cell_type": "code",
   "execution_count": 31,
   "metadata": {},
   "outputs": [
    {
     "name": "stdout",
     "output_type": "stream",
     "text": [
      "['Cherry', 'Blueberry', 'Apple']\n"
     ]
    }
   ],
   "source": [
    "L2 = [\"Cherry\", \"Apple\", \"Blueberry\"]\n",
    "print(sorted(L2, reverse=True))"
   ]
  },
  {
   "cell_type": "code",
   "execution_count": null,
   "metadata": {},
   "outputs": [],
   "source": []
  }
 ],
 "metadata": {
  "kernelspec": {
   "display_name": "Python 3",
   "language": "python",
   "name": "python3"
  },
  "language_info": {
   "codemirror_mode": {
    "name": "ipython",
    "version": 3
   },
   "file_extension": ".py",
   "mimetype": "text/x-python",
   "name": "python",
   "nbconvert_exporter": "python",
   "pygments_lexer": "ipython3",
   "version": "3.7.6"
  }
 },
 "nbformat": 4,
 "nbformat_minor": 4
}
